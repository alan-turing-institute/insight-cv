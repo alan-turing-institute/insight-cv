{
 "cells": [
  {
   "cell_type": "markdown",
   "id": "d9985d46",
   "metadata": {},
   "source": [
    "# WIP: Scivision demo notebook:\n",
    "\n",
    "## How scivision can be used for image segmentation "
   ]
  },
  {
   "cell_type": "code",
   "execution_count": 1,
   "id": "3619d6fc",
   "metadata": {},
   "outputs": [],
   "source": [
    "from scivision import default_catalog, load_pretrained_model, load_dataset"
   ]
  },
  {
   "cell_type": "code",
   "execution_count": 2,
   "id": "04b223a5",
   "metadata": {},
   "outputs": [
    {
     "data": {
      "text/plain": [
       "AnyUrl('https://github.com/alan-turing-institute/scivision_huggingface_segmentation', scheme='https', host='github.com', tld='com', host_type='domain', path='/alan-turing-institute/scivision_huggingface_segmentation')"
      ]
     },
     "execution_count": 2,
     "metadata": {},
     "output_type": "execute_result"
    }
   ],
   "source": [
    "# Get the model repo url\n",
    "models_catalog = default_catalog.models.to_dataframe()\n",
    "model_repo = models_catalog[models_catalog.name == \"huggingface-segmentation\"].url.item()\n",
    "model_repo # Why not paste the repo link into your browser and see how it looks?"
   ]
  },
  {
   "cell_type": "code",
   "execution_count": 3,
   "id": "a5cdad18",
   "metadata": {},
   "outputs": [
    {
     "name": "stderr",
     "output_type": "stream",
     "text": [
      "/opt/anaconda3/envs/scivision/lib/python3.9/site-packages/torch/functional.py:568: UserWarning: torch.meshgrid: in an upcoming release, it will be required to pass the indexing argument. (Triggered internally at  /Users/distiller/project/pytorch/aten/src/ATen/native/TensorShape.cpp:2228.)\n",
      "  return _VF.meshgrid(tensors, **kwargs)  # type: ignore[attr-defined]\n"
     ]
    }
   ],
   "source": [
    "facebook_model = load_pretrained_model(model_repo, model='facebook_detr_resnet_50_panoptic')\n",
    "nvidia_model = load_pretrained_model(model_repo, model='nvidia_segformer_b5_finetuned_ade_640_640')\n",
    "microsoft_model = load_pretrained_model(model_repo, model='microsoft_beit_large_finetuned_ade_640_640')"
   ]
  },
  {
   "cell_type": "code",
   "execution_count": 4,
   "id": "ff6791ef",
   "metadata": {},
   "outputs": [
    {
     "data": {
      "text/html": [
       "<div>\n",
       "<style scoped>\n",
       "    .dataframe tbody tr th:only-of-type {\n",
       "        vertical-align: middle;\n",
       "    }\n",
       "\n",
       "    .dataframe tbody tr th {\n",
       "        vertical-align: top;\n",
       "    }\n",
       "\n",
       "    .dataframe thead th {\n",
       "        text-align: right;\n",
       "    }\n",
       "</style>\n",
       "<table border=\"1\" class=\"dataframe\">\n",
       "  <thead>\n",
       "    <tr style=\"text-align: right;\">\n",
       "      <th></th>\n",
       "      <th>name</th>\n",
       "      <th>description</th>\n",
       "      <th>tasks</th>\n",
       "      <th>domains</th>\n",
       "      <th>url</th>\n",
       "      <th>format</th>\n",
       "      <th>labels_provided</th>\n",
       "      <th>institution</th>\n",
       "      <th>tags</th>\n",
       "    </tr>\n",
       "  </thead>\n",
       "  <tbody>\n",
       "    <tr>\n",
       "      <th>0</th>\n",
       "      <td>data-000</td>\n",
       "      <td>None</td>\n",
       "      <td>(TaskEnum.object_detection, TaskEnum.segmentat...</td>\n",
       "      <td>(optical-microscopy,)</td>\n",
       "      <td>https://github.com/stardist/stardist/releases/...</td>\n",
       "      <td>image</td>\n",
       "      <td>True</td>\n",
       "      <td>(epfl,)</td>\n",
       "      <td>(help-needed, 3D, cell, cell-counting, biology...</td>\n",
       "    </tr>\n",
       "    <tr>\n",
       "      <th>1</th>\n",
       "      <td>data-001</td>\n",
       "      <td>None</td>\n",
       "      <td>(TaskEnum.segmentation, TaskEnum.thresholding,...</td>\n",
       "      <td>(multispectral, hyperspectral)</td>\n",
       "      <td>https://gitlab.au.dk/AUENG-Vision/OPPD/-/archi...</td>\n",
       "      <td>image</td>\n",
       "      <td>True</td>\n",
       "      <td>(Aarhus University,)</td>\n",
       "      <td>(help-needed, 2D, plant-phenotyping, agricultu...</td>\n",
       "    </tr>\n",
       "    <tr>\n",
       "      <th>5</th>\n",
       "      <td>data-005</td>\n",
       "      <td>Sample dataset of satellite imagery required t...</td>\n",
       "      <td>(TaskEnum.classificiation, TaskEnum.segmentation)</td>\n",
       "      <td>(computer-vision, earth-observation, ecology)</td>\n",
       "      <td>https://github.com/MartinSJRogers/VEdge_Detect...</td>\n",
       "      <td>image</td>\n",
       "      <td>False</td>\n",
       "      <td>(Cambridge University,)</td>\n",
       "      <td>(2D, satellite, remote-sensing, ecology, envir...</td>\n",
       "    </tr>\n",
       "  </tbody>\n",
       "</table>\n",
       "</div>"
      ],
      "text/plain": [
       "       name                                        description  \\\n",
       "0  data-000                                               None   \n",
       "1  data-001                                               None   \n",
       "5  data-005  Sample dataset of satellite imagery required t...   \n",
       "\n",
       "                                               tasks  \\\n",
       "0  (TaskEnum.object_detection, TaskEnum.segmentat...   \n",
       "1  (TaskEnum.segmentation, TaskEnum.thresholding,...   \n",
       "5  (TaskEnum.classificiation, TaskEnum.segmentation)   \n",
       "\n",
       "                                         domains  \\\n",
       "0                          (optical-microscopy,)   \n",
       "1                 (multispectral, hyperspectral)   \n",
       "5  (computer-vision, earth-observation, ecology)   \n",
       "\n",
       "                                                 url format  labels_provided  \\\n",
       "0  https://github.com/stardist/stardist/releases/...  image             True   \n",
       "1  https://gitlab.au.dk/AUENG-Vision/OPPD/-/archi...  image             True   \n",
       "5  https://github.com/MartinSJRogers/VEdge_Detect...  image            False   \n",
       "\n",
       "               institution                                               tags  \n",
       "0                  (epfl,)  (help-needed, 3D, cell, cell-counting, biology...  \n",
       "1     (Aarhus University,)  (help-needed, 2D, plant-phenotyping, agricultu...  \n",
       "5  (Cambridge University,)  (2D, satellite, remote-sensing, ecology, envir...  "
      ]
     },
     "execution_count": 4,
     "metadata": {},
     "output_type": "execute_result"
    }
   ],
   "source": [
    "compatible_datasources = default_catalog.compatible_datasources(\"huggingface-segmentation\").to_dataframe()\n",
    "compatible_datasources"
   ]
  },
  {
   "cell_type": "code",
   "execution_count": 5,
   "id": "a37e15df",
   "metadata": {},
   "outputs": [
    {
     "data": {
      "text/html": [
       "<div>\n",
       "<style scoped>\n",
       "    .dataframe tbody tr th:only-of-type {\n",
       "        vertical-align: middle;\n",
       "    }\n",
       "\n",
       "    .dataframe tbody tr th {\n",
       "        vertical-align: top;\n",
       "    }\n",
       "\n",
       "    .dataframe thead th {\n",
       "        text-align: right;\n",
       "    }\n",
       "</style>\n",
       "<table border=\"1\" class=\"dataframe\">\n",
       "  <thead>\n",
       "    <tr style=\"text-align: right;\">\n",
       "      <th></th>\n",
       "      <th>name</th>\n",
       "      <th>description</th>\n",
       "      <th>tasks</th>\n",
       "      <th>domains</th>\n",
       "      <th>url</th>\n",
       "      <th>format</th>\n",
       "      <th>labels_provided</th>\n",
       "      <th>institution</th>\n",
       "      <th>tags</th>\n",
       "    </tr>\n",
       "  </thead>\n",
       "  <tbody>\n",
       "    <tr>\n",
       "      <th>5</th>\n",
       "      <td>data-005</td>\n",
       "      <td>Sample dataset of satellite imagery required t...</td>\n",
       "      <td>(TaskEnum.classificiation, TaskEnum.segmentation)</td>\n",
       "      <td>(computer-vision, earth-observation, ecology)</td>\n",
       "      <td>https://github.com/MartinSJRogers/VEdge_Detect...</td>\n",
       "      <td>image</td>\n",
       "      <td>False</td>\n",
       "      <td>(Cambridge University,)</td>\n",
       "      <td>(2D, satellite, remote-sensing, ecology, envir...</td>\n",
       "    </tr>\n",
       "  </tbody>\n",
       "</table>\n",
       "</div>"
      ],
      "text/plain": [
       "       name                                        description  \\\n",
       "5  data-005  Sample dataset of satellite imagery required t...   \n",
       "\n",
       "                                               tasks  \\\n",
       "5  (TaskEnum.classificiation, TaskEnum.segmentation)   \n",
       "\n",
       "                                         domains  \\\n",
       "5  (computer-vision, earth-observation, ecology)   \n",
       "\n",
       "                                                 url format  labels_provided  \\\n",
       "5  https://github.com/MartinSJRogers/VEdge_Detect...  image            False   \n",
       "\n",
       "               institution                                               tags  \n",
       "5  (Cambridge University,)  (2D, satellite, remote-sensing, ecology, envir...  "
      ]
     },
     "execution_count": 5,
     "metadata": {},
     "output_type": "execute_result"
    }
   ],
   "source": [
    "target_datasource = compatible_datasources.loc[compatible_datasources['name'] == 'data-005']\n",
    "target_datasource"
   ]
  },
  {
   "cell_type": "code",
   "execution_count": 6,
   "id": "9a96b9c7",
   "metadata": {},
   "outputs": [
    {
     "data": {
      "text/plain": [
       "AnyUrl('https://github.com/MartinSJRogers/VEdge_Detector_scivision', scheme='https', host='github.com', tld='com', host_type='domain', path='/MartinSJRogers/VEdge_Detector_scivision')"
      ]
     },
     "execution_count": 6,
     "metadata": {},
     "output_type": "execute_result"
    }
   ],
   "source": [
    "target_datasource.url.item()"
   ]
  },
  {
   "cell_type": "code",
   "execution_count": 7,
   "id": "7e26adea",
   "metadata": {},
   "outputs": [
    {
     "name": "stdout",
     "output_type": "stream",
     "text": [
      "['sample_image']\n"
     ]
    }
   ],
   "source": [
    "cat = load_dataset(target_datasource.url.item()) \n",
    "print(list(cat))"
   ]
  },
  {
   "cell_type": "code",
   "execution_count": 8,
   "id": "b8364e57",
   "metadata": {},
   "outputs": [
    {
     "name": "stderr",
     "output_type": "stream",
     "text": [
      "/opt/anaconda3/envs/scivision/lib/python3.9/site-packages/xarray/core/dataset.py:2172: FutureWarning: None value for 'chunks' is deprecated. It will raise an error in the future. Use instead '{}'\n",
      "  warnings.warn(\n"
     ]
    }
   ],
   "source": [
    "sample_image = cat.sample_image(sample_image='winterton').to_dask()"
   ]
  },
  {
   "cell_type": "code",
   "execution_count": 9,
   "id": "aa65388d",
   "metadata": {},
   "outputs": [],
   "source": [
    "import matplotlib.pyplot as plt"
   ]
  },
  {
   "cell_type": "code",
   "execution_count": 10,
   "id": "ecf789a6",
   "metadata": {},
   "outputs": [
    {
     "data": {
      "text/plain": [
       "<matplotlib.image.AxesImage at 0x18a59e5e0>"
      ]
     },
     "execution_count": 10,
     "metadata": {},
     "output_type": "execute_result"
    },
    {
     "data": {
      "image/png": "[encoded data removed]",
      "text/plain": [
       "<Figure size 432x288 with 1 Axes>"
      ]
     },
     "metadata": {
      "needs_background": "light"
     },
     "output_type": "display_data"
    }
   ],
   "source": [
    "plt.imshow(sample_image)"
   ]
  },
  {
   "cell_type": "code",
   "execution_count": 11,
   "id": "91cbb508",
   "metadata": {},
   "outputs": [],
   "source": [
    "fb_outputs = facebook_model.predict(sample_image)"
   ]
  },
  {
   "cell_type": "code",
   "execution_count": 12,
   "id": "ba9ffc29",
   "metadata": {},
   "outputs": [],
   "source": [
    "nv_outputs = nvidia_model.predict(sample_image)"
   ]
  },
  {
   "cell_type": "code",
   "execution_count": null,
   "id": "70392415",
   "metadata": {},
   "outputs": [],
   "source": [
    "ms_outputs = microsoft_model.predict(sample_image)"
   ]
  },
  {
   "cell_type": "code",
   "execution_count": null,
   "id": "e97a4e24",
   "metadata": {},
   "outputs": [],
   "source": [
    "fb_outputs.keys()"
   ]
  },
  {
   "cell_type": "code",
   "execution_count": null,
   "id": "e377c514",
   "metadata": {},
   "outputs": [],
   "source": [
    "nv_outputs.keys()"
   ]
  },
  {
   "cell_type": "code",
   "execution_count": null,
   "id": "965afb4f",
   "metadata": {},
   "outputs": [],
   "source": [
    "ms_outputs.keys()"
   ]
  }
 ],
 "metadata": {
  "kernelspec": {
   "display_name": "Python 3 (ipykernel)",
   "language": "python",
   "name": "python3"
  },
  "language_info": {
   "codemirror_mode": {
    "name": "ipython",
    "version": 3
   },
   "file_extension": ".py",
   "mimetype": "text/x-python",
   "name": "python",
   "nbconvert_exporter": "python",
   "pygments_lexer": "ipython3",
   "version": "3.9.12"
  }
 },
 "nbformat": 4,
 "nbformat_minor": 5
}
