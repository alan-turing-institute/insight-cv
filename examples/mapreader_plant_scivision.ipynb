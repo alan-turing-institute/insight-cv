{
 "cells": [
  {
   "cell_type": "code",
   "execution_count": null,
   "id": "9bc9f3b5",
   "metadata": {
    "scrolled": true
   },
   "outputs": [],
   "source": [
    "!pip install scivision"
   ]
  },
  {
   "cell_type": "code",
   "execution_count": null,
   "id": "5e355c21",
   "metadata": {},
   "outputs": [],
   "source": [
    "# solve issue with autocomplete\n",
    "%config Completer.use_jedi = False\n",
    "\n",
    "%load_ext autoreload\n",
    "%autoreload 2\n",
    "%matplotlib inline"
   ]
  },
  {
   "cell_type": "code",
   "execution_count": null,
   "id": "e0cc71b2",
   "metadata": {},
   "outputs": [],
   "source": [
    "from scivision.io import load_pretrained_model, load_dataset\n",
    "import matplotlib.pyplot as plt"
   ]
  },
  {
   "cell_type": "code",
   "execution_count": null,
   "id": "61ced77f",
   "metadata": {},
   "outputs": [],
   "source": [
    "scivision_yml = 'https://raw.githubusercontent.com/alan-turing-institute/mapreader-plant-scivision/main/.scivision-config.yaml'\n",
    "model = load_pretrained_model(scivision_yml, allow_install=True)"
   ]
  },
  {
   "cell_type": "code",
   "execution_count": null,
   "id": "3fc5bdcc",
   "metadata": {},
   "outputs": [],
   "source": [
    "cat = load_dataset('https://github.com/alan-turing-institute/mapreader-plant-scivision')"
   ]
  },
  {
   "cell_type": "code",
   "execution_count": null,
   "id": "837fb6eb",
   "metadata": {},
   "outputs": [],
   "source": [
    "list(cat)"
   ]
  },
  {
   "cell_type": "code",
   "execution_count": null,
   "id": "190769c4",
   "metadata": {},
   "outputs": [],
   "source": [
    "ds = cat.plant_single().to_dask()"
   ]
  },
  {
   "cell_type": "code",
   "execution_count": null,
   "id": "51df9860",
   "metadata": {},
   "outputs": [],
   "source": [
    "plt.imshow(ds[0])"
   ]
  },
  {
   "cell_type": "code",
   "execution_count": null,
   "id": "9d13f857",
   "metadata": {
    "scrolled": false
   },
   "outputs": [],
   "source": [
    "outputs = model.predict(ds[0])"
   ]
  },
  {
   "cell_type": "code",
   "execution_count": null,
   "id": "44774c84",
   "metadata": {},
   "outputs": [],
   "source": [
    "outputs.head()"
   ]
  },
  {
   "cell_type": "code",
   "execution_count": null,
   "id": "616e1a32",
   "metadata": {},
   "outputs": [],
   "source": []
  }
 ],
 "metadata": {
  "kernelspec": {
   "display_name": "Python 3 (ipykernel)",
   "language": "python",
   "name": "python3"
  },
  "language_info": {
   "codemirror_mode": {
    "name": "ipython",
    "version": 3
   },
   "file_extension": ".py",
   "mimetype": "text/x-python",
   "name": "python",
   "nbconvert_exporter": "python",
   "pygments_lexer": "ipython3",
   "version": "3.8.12"
  }
 },
 "nbformat": 4,
 "nbformat_minor": 5
}
