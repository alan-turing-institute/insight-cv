{
 "cells": [
  {
   "cell_type": "markdown",
   "metadata": {},
   "source": [
    "# How to use `scivision`\n",
    "\n",
    "In this notebook, we will:\n",
    "\n",
    "1. Demonstrate using the scivision [Python API](https://scivision.readthedocs.io/en/latest/api.html) to load a pretrained (ImageNet) model, which we previously added to the scivision catalog with the name \"scivision-test-plugin\", as per [this guide](https://scivision.readthedocs.io/en/latest/contributing.html#extending-the-scivision-catalog)\n",
    "2. Use the scivision catalog to find a matching dataset, which the model can be run on\n",
    "3. Run the model on the data, performing simple model inference"
   ]
  },
  {
   "cell_type": "markdown",
   "metadata": {},
   "source": [
    "Note: The model repository follows the strcuture specified in [this template](https://scivision.readthedocs.io/en/latest/model_repository_template.html), including a `scivision` [model config file](https://github.com/alan-turing-institute/scivision-test-plugin/blob/main/.scivision/model.yml)."
   ]
  },
  {
   "cell_type": "markdown",
   "metadata": {},
   "source": [
    "We first import some things from scivision: `default_catalog` is a scivision **catalog** that will let us discover models and datasets, and `load_pretrained_model` provides a convenient way to load and run a model."
   ]
  },
  {
   "cell_type": "code",
   "execution_count": 1,
   "metadata": {},
   "outputs": [],
   "source": [
    "from scivision import default_catalog, load_pretrained_model"
   ]
  },
  {
   "cell_type": "markdown",
   "metadata": {},
   "source": [
    "## Inspecting our model in the scivision catalog\n",
    "\n",
    "A scivision catalog is a collection of **models** and **datasources**.\n",
    "\n",
    "For this example, we want to find datasources compatible with \"scivision-test-plugin\".  But first, let's first let's use the catalog to retrive the \"scivision-test-plugin\" repository url, take a look at the other models in the *default catalog* (the built-in catalog, distributed as part of scivision) and see how this catalog is structured."
   ]
  },
  {
   "cell_type": "code",
   "execution_count": 2,
   "metadata": {},
   "outputs": [
    {
     "data": {
      "text/plain": [
       "AnyUrl('https://github.com/alan-turing-institute/scivision-test-plugin', scheme='https', host='github.com', tld='com', host_type='domain', path='/alan-turing-institute/scivision-test-plugin')"
      ]
     },
     "execution_count": 2,
     "metadata": {},
     "output_type": "execute_result"
    }
   ],
   "source": [
    "# Get the model repo url\n",
    "models_catalog = default_catalog.models.to_dataframe()\n",
    "stp_repo = models_catalog[models_catalog.name == \"scivision-test-plugin\"].url.item()\n",
    "stp_repo # Why not paste the repo link into your browser and see how it looks?"
   ]
  },
  {
   "cell_type": "code",
   "execution_count": 3,
   "metadata": {},
   "outputs": [
    {
     "data": {
      "text/html": [
       "<div>\n",
       "<style scoped>\n",
       "    .dataframe tbody tr th:only-of-type {\n",
       "        vertical-align: middle;\n",
       "    }\n",
       "\n",
       "    .dataframe tbody tr th {\n",
       "        vertical-align: top;\n",
       "    }\n",
       "\n",
       "    .dataframe thead th {\n",
       "        text-align: right;\n",
       "    }\n",
       "</style>\n",
       "<table border=\"1\" class=\"dataframe\">\n",
       "  <thead>\n",
       "    <tr style=\"text-align: right;\">\n",
       "      <th></th>\n",
       "      <th>name</th>\n",
       "      <th>description</th>\n",
       "      <th>tasks</th>\n",
       "      <th>url</th>\n",
       "      <th>pkg_url</th>\n",
       "      <th>format</th>\n",
       "      <th>pretrained</th>\n",
       "      <th>labels_required</th>\n",
       "      <th>institution</th>\n",
       "      <th>tags</th>\n",
       "    </tr>\n",
       "  </thead>\n",
       "  <tbody>\n",
       "    <tr>\n",
       "      <th>0</th>\n",
       "      <td>model-000</td>\n",
       "      <td>None</td>\n",
       "      <td>(TaskEnum.object_detection, TaskEnum.segmentat...</td>\n",
       "      <td>https://github.com/stardist/stardist</td>\n",
       "      <td>git+https://github.com/stardist/stardist.git@main</td>\n",
       "      <td>image</td>\n",
       "      <td>True</td>\n",
       "      <td>True</td>\n",
       "      <td>(epfl,)</td>\n",
       "      <td>(2D, 3D, optical-microscopy, xray, microtomogr...</td>\n",
       "    </tr>\n",
       "    <tr>\n",
       "      <th>1</th>\n",
       "      <td>model-001</td>\n",
       "      <td>None</td>\n",
       "      <td>(TaskEnum.segmentation, TaskEnum.thresholding,...</td>\n",
       "      <td>https://github.com/danforthcenter/plantcv</td>\n",
       "      <td>git+https://github.com/danforthcenter/plantcv@...</td>\n",
       "      <td>image</td>\n",
       "      <td>True</td>\n",
       "      <td>True</td>\n",
       "      <td>(danforthcenter,)</td>\n",
       "      <td>(2D, hyperspectral, multispectral, near-infrar...</td>\n",
       "    </tr>\n",
       "    <tr>\n",
       "      <th>2</th>\n",
       "      <td>model-002</td>\n",
       "      <td>None</td>\n",
       "      <td>(TaskEnum.segmentation,)</td>\n",
       "      <td>https://github.com/MarniTausen/Greenotyper</td>\n",
       "      <td>git+https://github.com/MarniTausen/Greenotyper...</td>\n",
       "      <td>image</td>\n",
       "      <td>True</td>\n",
       "      <td>True</td>\n",
       "      <td>(MarniTausen,)</td>\n",
       "      <td>(2D, multispectral, plant-phenotyping, climate...</td>\n",
       "    </tr>\n",
       "    <tr>\n",
       "      <th>3</th>\n",
       "      <td>model-003</td>\n",
       "      <td>None</td>\n",
       "      <td>(TaskEnum.segmentation,)</td>\n",
       "      <td>https://github.com/alan-turing-institute/cv-al...</td>\n",
       "      <td>git+https://github.com/alan-turing-institute/c...</td>\n",
       "      <td>image</td>\n",
       "      <td>True</td>\n",
       "      <td>True</td>\n",
       "      <td>(alan-turing-institute,)</td>\n",
       "      <td>(dummy,)</td>\n",
       "    </tr>\n",
       "    <tr>\n",
       "      <th>4</th>\n",
       "      <td>scivision-test-plugin</td>\n",
       "      <td>None</td>\n",
       "      <td>(TaskEnum.object_detection,)</td>\n",
       "      <td>https://github.com/alan-turing-institute/scivi...</td>\n",
       "      <td>git+https://github.com/alan-turing-institute/s...</td>\n",
       "      <td>image</td>\n",
       "      <td>True</td>\n",
       "      <td>False</td>\n",
       "      <td>(alan-turing-institute,)</td>\n",
       "      <td>(dummy,)</td>\n",
       "    </tr>\n",
       "  </tbody>\n",
       "</table>\n",
       "</div>"
      ],
      "text/plain": [
       "                    name description  \\\n",
       "0              model-000        None   \n",
       "1              model-001        None   \n",
       "2              model-002        None   \n",
       "3              model-003        None   \n",
       "4  scivision-test-plugin        None   \n",
       "\n",
       "                                               tasks  \\\n",
       "0  (TaskEnum.object_detection, TaskEnum.segmentat...   \n",
       "1  (TaskEnum.segmentation, TaskEnum.thresholding,...   \n",
       "2                           (TaskEnum.segmentation,)   \n",
       "3                           (TaskEnum.segmentation,)   \n",
       "4                       (TaskEnum.object_detection,)   \n",
       "\n",
       "                                                 url  \\\n",
       "0               https://github.com/stardist/stardist   \n",
       "1          https://github.com/danforthcenter/plantcv   \n",
       "2         https://github.com/MarniTausen/Greenotyper   \n",
       "3  https://github.com/alan-turing-institute/cv-al...   \n",
       "4  https://github.com/alan-turing-institute/scivi...   \n",
       "\n",
       "                                             pkg_url format  pretrained  \\\n",
       "0  git+https://github.com/stardist/stardist.git@main  image        True   \n",
       "1  git+https://github.com/danforthcenter/plantcv@...  image        True   \n",
       "2  git+https://github.com/MarniTausen/Greenotyper...  image        True   \n",
       "3  git+https://github.com/alan-turing-institute/c...  image        True   \n",
       "4  git+https://github.com/alan-turing-institute/s...  image        True   \n",
       "\n",
       "   labels_required               institution  \\\n",
       "0             True                   (epfl,)   \n",
       "1             True         (danforthcenter,)   \n",
       "2             True            (MarniTausen,)   \n",
       "3             True  (alan-turing-institute,)   \n",
       "4            False  (alan-turing-institute,)   \n",
       "\n",
       "                                                tags  \n",
       "0  (2D, 3D, optical-microscopy, xray, microtomogr...  \n",
       "1  (2D, hyperspectral, multispectral, near-infrar...  \n",
       "2  (2D, multispectral, plant-phenotyping, climate...  \n",
       "3                                           (dummy,)  \n",
       "4                                           (dummy,)  "
      ]
     },
     "execution_count": 3,
     "metadata": {},
     "output_type": "execute_result"
    }
   ],
   "source": [
    "# Inspecting models in the default catalog\n",
    "default_catalog.models.to_dataframe().head()"
   ]
  },
  {
   "cell_type": "markdown",
   "metadata": {},
   "source": [
    "## Loading the model\n",
    "\n",
    "Next, let's load the \"scivision-test-plugin\" model using the scivision python API, specifically the `load_pretrained_model` function:"
   ]
  },
  {
   "cell_type": "code",
   "execution_count": 4,
   "metadata": {},
   "outputs": [],
   "source": [
    "model = load_pretrained_model(stp_repo, allow_install=True)"
   ]
  },
  {
   "cell_type": "code",
   "execution_count": 5,
   "metadata": {
    "pycharm": {
     "name": "#%%\n"
    }
   },
   "outputs": [
    {
     "data": {
      "text/plain": [
       "scivision.PretrainedModel( \n",
       "  module='scivision_test_plugin', \n",
       "  model='ImageNetModel', \n",
       "  source='https://github.com/alan-turing-institute/scivision-test-plugin.git' \n",
       "  pipe='DataPipe(input=<Parameter \"X: numpy.ndarray\">, output=<Parameter \"image: numpy.ndarray\">)' \n",
       ")"
      ]
     },
     "execution_count": 5,
     "metadata": {},
     "output_type": "execute_result"
    }
   ],
   "source": [
    "# let's explore the model object\n",
    "model"
   ]
  },
  {
   "cell_type": "markdown",
   "metadata": {},
   "source": [
    "Later, we'll use this ImageNet model to make predictions on image data found in the scivision catalog."
   ]
  },
  {
   "cell_type": "markdown",
   "metadata": {},
   "source": [
    "## Query the default scivision catalog"
   ]
  },
  {
   "cell_type": "markdown",
   "metadata": {},
   "source": [
    "Now let's use the `default_catalog` to identify datasources in the catalog that are compatible with the model (based on `tasks`, `format` and `labels_provided`/`labels_required`)."
   ]
  },
  {
   "cell_type": "code",
   "execution_count": 6,
   "metadata": {
    "scrolled": false
   },
   "outputs": [
    {
     "data": {
      "text/html": [
       "<div>\n",
       "<style scoped>\n",
       "    .dataframe tbody tr th:only-of-type {\n",
       "        vertical-align: middle;\n",
       "    }\n",
       "\n",
       "    .dataframe tbody tr th {\n",
       "        vertical-align: top;\n",
       "    }\n",
       "\n",
       "    .dataframe thead th {\n",
       "        text-align: right;\n",
       "    }\n",
       "</style>\n",
       "<table border=\"1\" class=\"dataframe\">\n",
       "  <thead>\n",
       "    <tr style=\"text-align: right;\">\n",
       "      <th></th>\n",
       "      <th>name</th>\n",
       "      <th>description</th>\n",
       "      <th>tasks</th>\n",
       "      <th>domains</th>\n",
       "      <th>url</th>\n",
       "      <th>format</th>\n",
       "      <th>labels_provided</th>\n",
       "      <th>institution</th>\n",
       "      <th>tags</th>\n",
       "    </tr>\n",
       "  </thead>\n",
       "  <tbody>\n",
       "    <tr>\n",
       "      <th>0</th>\n",
       "      <td>data-000</td>\n",
       "      <td>None</td>\n",
       "      <td>(TaskEnum.object_detection, TaskEnum.segmentat...</td>\n",
       "      <td>(optical-microscopy,)</td>\n",
       "      <td>https://github.com/stardist/stardist/releases/...</td>\n",
       "      <td>image</td>\n",
       "      <td>True</td>\n",
       "      <td>(epfl,)</td>\n",
       "      <td>(help-needed, 3D, cell, cell-counting, biology...</td>\n",
       "    </tr>\n",
       "    <tr>\n",
       "      <th>1</th>\n",
       "      <td>data-001</td>\n",
       "      <td>None</td>\n",
       "      <td>(TaskEnum.segmentation, TaskEnum.thresholding,...</td>\n",
       "      <td>(multispectral, hyperspectral)</td>\n",
       "      <td>https://gitlab.au.dk/AUENG-Vision/OPPD/-/archi...</td>\n",
       "      <td>image</td>\n",
       "      <td>True</td>\n",
       "      <td>(Aarhus University,)</td>\n",
       "      <td>(help-needed, 2D, plant-phenotyping, agricultu...</td>\n",
       "    </tr>\n",
       "    <tr>\n",
       "      <th>3</th>\n",
       "      <td>data-003</td>\n",
       "      <td>Koala</td>\n",
       "      <td>(TaskEnum.object_detection,)</td>\n",
       "      <td>(computer-vision,)</td>\n",
       "      <td>https://github.com/alan-turing-institute/scivi...</td>\n",
       "      <td>image</td>\n",
       "      <td>True</td>\n",
       "      <td>(Wikipedia by Erik Veland,)</td>\n",
       "      <td>(demo,)</td>\n",
       "    </tr>\n",
       "  </tbody>\n",
       "</table>\n",
       "</div>"
      ],
      "text/plain": [
       "       name description                                              tasks  \\\n",
       "0  data-000        None  (TaskEnum.object_detection, TaskEnum.segmentat...   \n",
       "1  data-001        None  (TaskEnum.segmentation, TaskEnum.thresholding,...   \n",
       "3  data-003       Koala                       (TaskEnum.object_detection,)   \n",
       "\n",
       "                          domains  \\\n",
       "0           (optical-microscopy,)   \n",
       "1  (multispectral, hyperspectral)   \n",
       "3              (computer-vision,)   \n",
       "\n",
       "                                                 url format  labels_provided  \\\n",
       "0  https://github.com/stardist/stardist/releases/...  image             True   \n",
       "1  https://gitlab.au.dk/AUENG-Vision/OPPD/-/archi...  image             True   \n",
       "3  https://github.com/alan-turing-institute/scivi...  image             True   \n",
       "\n",
       "                   institution  \\\n",
       "0                      (epfl,)   \n",
       "1         (Aarhus University,)   \n",
       "3  (Wikipedia by Erik Veland,)   \n",
       "\n",
       "                                                tags  \n",
       "0  (help-needed, 3D, cell, cell-counting, biology...  \n",
       "1  (help-needed, 2D, plant-phenotyping, agricultu...  \n",
       "3                                            (demo,)  "
      ]
     },
     "execution_count": 6,
     "metadata": {},
     "output_type": "execute_result"
    }
   ],
   "source": [
    "compatible_datasources = default_catalog.compatible_datasources(\"scivision-test-plugin\").to_dataframe()\n",
    "compatible_datasources"
   ]
  },
  {
   "cell_type": "markdown",
   "metadata": {},
   "source": [
    "Let's use `data-003`, a single image dataset (of a baby Koala!)"
   ]
  },
  {
   "cell_type": "code",
   "execution_count": 7,
   "metadata": {
    "pycharm": {
     "name": "#%%\n"
    }
   },
   "outputs": [
    {
     "data": {
      "text/html": [
       "<div>\n",
       "<style scoped>\n",
       "    .dataframe tbody tr th:only-of-type {\n",
       "        vertical-align: middle;\n",
       "    }\n",
       "\n",
       "    .dataframe tbody tr th {\n",
       "        vertical-align: top;\n",
       "    }\n",
       "\n",
       "    .dataframe thead th {\n",
       "        text-align: right;\n",
       "    }\n",
       "</style>\n",
       "<table border=\"1\" class=\"dataframe\">\n",
       "  <thead>\n",
       "    <tr style=\"text-align: right;\">\n",
       "      <th></th>\n",
       "      <th>name</th>\n",
       "      <th>description</th>\n",
       "      <th>tasks</th>\n",
       "      <th>domains</th>\n",
       "      <th>url</th>\n",
       "      <th>format</th>\n",
       "      <th>labels_provided</th>\n",
       "      <th>institution</th>\n",
       "      <th>tags</th>\n",
       "    </tr>\n",
       "  </thead>\n",
       "  <tbody>\n",
       "    <tr>\n",
       "      <th>3</th>\n",
       "      <td>data-003</td>\n",
       "      <td>Koala</td>\n",
       "      <td>(TaskEnum.object_detection,)</td>\n",
       "      <td>(computer-vision,)</td>\n",
       "      <td>https://github.com/alan-turing-institute/scivi...</td>\n",
       "      <td>image</td>\n",
       "      <td>True</td>\n",
       "      <td>(Wikipedia by Erik Veland,)</td>\n",
       "      <td>(demo,)</td>\n",
       "    </tr>\n",
       "  </tbody>\n",
       "</table>\n",
       "</div>"
      ],
      "text/plain": [
       "       name description                         tasks             domains  \\\n",
       "3  data-003       Koala  (TaskEnum.object_detection,)  (computer-vision,)   \n",
       "\n",
       "                                                 url format  labels_provided  \\\n",
       "3  https://github.com/alan-turing-institute/scivi...  image             True   \n",
       "\n",
       "                   institution     tags  \n",
       "3  (Wikipedia by Erik Veland,)  (demo,)  "
      ]
     },
     "execution_count": 7,
     "metadata": {},
     "output_type": "execute_result"
    }
   ],
   "source": [
    "target_datasource = compatible_datasources.loc[compatible_datasources['name'] == 'data-003']\n",
    "target_datasource"
   ]
  },
  {
   "cell_type": "markdown",
   "metadata": {},
   "source": [
    "## Load the dataset\n",
    "\n",
    "Now let's load the dataset using the scivision python API, specifically the [load_dataset](https://scivision.readthedocs.io/en/latest/api.html#scivision.io.reader.load_dataset) function, which takes as input the url of the data repository (structured as per [this template](https://scivision.readthedocs.io/en/latest/data_repository_template.html)), which we can get from the target datasource:"
   ]
  },
  {
   "cell_type": "code",
   "execution_count": 8,
   "metadata": {},
   "outputs": [],
   "source": [
    "from scivision import load_dataset"
   ]
  },
  {
   "cell_type": "code",
   "execution_count": 9,
   "metadata": {},
   "outputs": [],
   "source": [
    "data_url = target_datasource['url'].item()"
   ]
  },
  {
   "cell_type": "markdown",
   "metadata": {},
   "source": [
    "The returned data config object of the`load_dataset` function is an \"intake catalog\". You can read our [documentation](https://scivision.readthedocs.io/en/latest/data_repository_template.html#data-config-file) to understand this better, but for now, let's inspect this config:"
   ]
  },
  {
   "cell_type": "code",
   "execution_count": 10,
   "metadata": {},
   "outputs": [
    {
     "data": {
      "application/yaml": "data:\n  args:\n    path: https://raw.githubusercontent.com/alan-turing-institute/scivision-test-data/main/.scivision/data.yml\n  description: ''\n  driver: intake.catalog.local.YAMLFileCatalog\n  metadata: {}\n",
      "text/plain": [
       "data:\n",
       "  args:\n",
       "    path: https://raw.githubusercontent.com/alan-turing-institute/scivision-test-data/main/.scivision/data.yml\n",
       "  description: ''\n",
       "  driver: intake.catalog.local.YAMLFileCatalog\n",
       "  metadata: {}\n"
      ]
     },
     "metadata": {
      "application/json": {
       "root": "data"
      }
     },
     "output_type": "display_data"
    }
   ],
   "source": [
    "data_config = load_dataset(data_url)\n",
    "data_config"
   ]
  },
  {
   "cell_type": "markdown",
   "metadata": {},
   "source": [
    "Clicking the `path` link to the location of this data config file online (in the dataset repo) reveals that there is one data source called `test_image`, and that the `intake_xarray.image.ImageSource` is being used. We can retrive the test image data in an image format which the model will accept, like so:"
   ]
  },
  {
   "cell_type": "code",
   "execution_count": 11,
   "metadata": {},
   "outputs": [
    {
     "name": "stderr",
     "output_type": "stream",
     "text": [
      "/opt/anaconda3/lib/python3.7/site-packages/xarray/core/dataset.py:2178: FutureWarning: None value for 'chunks' is deprecated. It will raise an error in the future. Use instead '{}'\n",
      "  category=FutureWarning,\n"
     ]
    },
    {
     "data": {
      "text/html": [
       "<div><svg style=\"position: absolute; width: 0; height: 0; overflow: hidden\">\n",
       "<defs>\n",
       "<symbol id=\"icon-database\" viewBox=\"0 0 32 32\">\n",
       "<path d=\"M16 0c-8.837 0-16 2.239-16 5v4c0 2.761 7.163 5 16 5s16-2.239 16-5v-4c0-2.761-7.163-5-16-5z\"></path>\n",
       "<path d=\"M16 17c-8.837 0-16-2.239-16-5v6c0 2.761 7.163 5 16 5s16-2.239 16-5v-6c0 2.761-7.163 5-16 5z\"></path>\n",
       "<path d=\"M16 26c-8.837 0-16-2.239-16-5v6c0 2.761 7.163 5 16 5s16-2.239 16-5v-6c0 2.761-7.163 5-16 5z\"></path>\n",
       "</symbol>\n",
       "<symbol id=\"icon-file-text2\" viewBox=\"0 0 32 32\">\n",
       "<path d=\"M28.681 7.159c-0.694-0.947-1.662-2.053-2.724-3.116s-2.169-2.030-3.116-2.724c-1.612-1.182-2.393-1.319-2.841-1.319h-15.5c-1.378 0-2.5 1.121-2.5 2.5v27c0 1.378 1.122 2.5 2.5 2.5h23c1.378 0 2.5-1.122 2.5-2.5v-19.5c0-0.448-0.137-1.23-1.319-2.841zM24.543 5.457c0.959 0.959 1.712 1.825 2.268 2.543h-4.811v-4.811c0.718 0.556 1.584 1.309 2.543 2.268zM28 29.5c0 0.271-0.229 0.5-0.5 0.5h-23c-0.271 0-0.5-0.229-0.5-0.5v-27c0-0.271 0.229-0.5 0.5-0.5 0 0 15.499-0 15.5 0v7c0 0.552 0.448 1 1 1h7v19.5z\"></path>\n",
       "<path d=\"M23 26h-14c-0.552 0-1-0.448-1-1s0.448-1 1-1h14c0.552 0 1 0.448 1 1s-0.448 1-1 1z\"></path>\n",
       "<path d=\"M23 22h-14c-0.552 0-1-0.448-1-1s0.448-1 1-1h14c0.552 0 1 0.448 1 1s-0.448 1-1 1z\"></path>\n",
       "<path d=\"M23 18h-14c-0.552 0-1-0.448-1-1s0.448-1 1-1h14c0.552 0 1 0.448 1 1s-0.448 1-1 1z\"></path>\n",
       "</symbol>\n",
       "</defs>\n",
       "</svg>\n",
       "<style>/* CSS stylesheet for displaying xarray objects in jupyterlab.\n",
       " *\n",
       " */\n",
       "\n",
       ":root {\n",
       "  --xr-font-color0: var(--jp-content-font-color0, rgba(0, 0, 0, 1));\n",
       "  --xr-font-color2: var(--jp-content-font-color2, rgba(0, 0, 0, 0.54));\n",
       "  --xr-font-color3: var(--jp-content-font-color3, rgba(0, 0, 0, 0.38));\n",
       "  --xr-border-color: var(--jp-border-color2, #e0e0e0);\n",
       "  --xr-disabled-color: var(--jp-layout-color3, #bdbdbd);\n",
       "  --xr-background-color: var(--jp-layout-color0, white);\n",
       "  --xr-background-color-row-even: var(--jp-layout-color1, white);\n",
       "  --xr-background-color-row-odd: var(--jp-layout-color2, #eeeeee);\n",
       "}\n",
       "\n",
       "html[theme=dark],\n",
       "body.vscode-dark {\n",
       "  --xr-font-color0: rgba(255, 255, 255, 1);\n",
       "  --xr-font-color2: rgba(255, 255, 255, 0.54);\n",
       "  --xr-font-color3: rgba(255, 255, 255, 0.38);\n",
       "  --xr-border-color: #1F1F1F;\n",
       "  --xr-disabled-color: #515151;\n",
       "  --xr-background-color: #111111;\n",
       "  --xr-background-color-row-even: #111111;\n",
       "  --xr-background-color-row-odd: #313131;\n",
       "}\n",
       "\n",
       ".xr-wrap {\n",
       "  display: block;\n",
       "  min-width: 300px;\n",
       "  max-width: 700px;\n",
       "}\n",
       "\n",
       ".xr-text-repr-fallback {\n",
       "  /* fallback to plain text repr when CSS is not injected (untrusted notebook) */\n",
       "  display: none;\n",
       "}\n",
       "\n",
       ".xr-header {\n",
       "  padding-top: 6px;\n",
       "  padding-bottom: 6px;\n",
       "  margin-bottom: 4px;\n",
       "  border-bottom: solid 1px var(--xr-border-color);\n",
       "}\n",
       "\n",
       ".xr-header > div,\n",
       ".xr-header > ul {\n",
       "  display: inline;\n",
       "  margin-top: 0;\n",
       "  margin-bottom: 0;\n",
       "}\n",
       "\n",
       ".xr-obj-type,\n",
       ".xr-array-name {\n",
       "  margin-left: 2px;\n",
       "  margin-right: 10px;\n",
       "}\n",
       "\n",
       ".xr-obj-type {\n",
       "  color: var(--xr-font-color2);\n",
       "}\n",
       "\n",
       ".xr-sections {\n",
       "  padding-left: 0 !important;\n",
       "  display: grid;\n",
       "  grid-template-columns: 150px auto auto 1fr 20px 20px;\n",
       "}\n",
       "\n",
       ".xr-section-item {\n",
       "  display: contents;\n",
       "}\n",
       "\n",
       ".xr-section-item input {\n",
       "  display: none;\n",
       "}\n",
       "\n",
       ".xr-section-item input + label {\n",
       "  color: var(--xr-disabled-color);\n",
       "}\n",
       "\n",
       ".xr-section-item input:enabled + label {\n",
       "  cursor: pointer;\n",
       "  color: var(--xr-font-color2);\n",
       "}\n",
       "\n",
       ".xr-section-item input:enabled + label:hover {\n",
       "  color: var(--xr-font-color0);\n",
       "}\n",
       "\n",
       ".xr-section-summary {\n",
       "  grid-column: 1;\n",
       "  color: var(--xr-font-color2);\n",
       "  font-weight: 500;\n",
       "}\n",
       "\n",
       ".xr-section-summary > span {\n",
       "  display: inline-block;\n",
       "  padding-left: 0.5em;\n",
       "}\n",
       "\n",
       ".xr-section-summary-in:disabled + label {\n",
       "  color: var(--xr-font-color2);\n",
       "}\n",
       "\n",
       ".xr-section-summary-in + label:before {\n",
       "  display: inline-block;\n",
       "  content: '►';\n",
       "  font-size: 11px;\n",
       "  width: 15px;\n",
       "  text-align: center;\n",
       "}\n",
       "\n",
       ".xr-section-summary-in:disabled + label:before {\n",
       "  color: var(--xr-disabled-color);\n",
       "}\n",
       "\n",
       ".xr-section-summary-in:checked + label:before {\n",
       "  content: '▼';\n",
       "}\n",
       "\n",
       ".xr-section-summary-in:checked + label > span {\n",
       "  display: none;\n",
       "}\n",
       "\n",
       ".xr-section-summary,\n",
       ".xr-section-inline-details {\n",
       "  padding-top: 4px;\n",
       "  padding-bottom: 4px;\n",
       "}\n",
       "\n",
       ".xr-section-inline-details {\n",
       "  grid-column: 2 / -1;\n",
       "}\n",
       "\n",
       ".xr-section-details {\n",
       "  display: none;\n",
       "  grid-column: 1 / -1;\n",
       "  margin-bottom: 5px;\n",
       "}\n",
       "\n",
       ".xr-section-summary-in:checked ~ .xr-section-details {\n",
       "  display: contents;\n",
       "}\n",
       "\n",
       ".xr-array-wrap {\n",
       "  grid-column: 1 / -1;\n",
       "  display: grid;\n",
       "  grid-template-columns: 20px auto;\n",
       "}\n",
       "\n",
       ".xr-array-wrap > label {\n",
       "  grid-column: 1;\n",
       "  vertical-align: top;\n",
       "}\n",
       "\n",
       ".xr-preview {\n",
       "  color: var(--xr-font-color3);\n",
       "}\n",
       "\n",
       ".xr-array-preview,\n",
       ".xr-array-data {\n",
       "  padding: 0 5px !important;\n",
       "  grid-column: 2;\n",
       "}\n",
       "\n",
       ".xr-array-data,\n",
       ".xr-array-in:checked ~ .xr-array-preview {\n",
       "  display: none;\n",
       "}\n",
       "\n",
       ".xr-array-in:checked ~ .xr-array-data,\n",
       ".xr-array-preview {\n",
       "  display: inline-block;\n",
       "}\n",
       "\n",
       ".xr-dim-list {\n",
       "  display: inline-block !important;\n",
       "  list-style: none;\n",
       "  padding: 0 !important;\n",
       "  margin: 0;\n",
       "}\n",
       "\n",
       ".xr-dim-list li {\n",
       "  display: inline-block;\n",
       "  padding: 0;\n",
       "  margin: 0;\n",
       "}\n",
       "\n",
       ".xr-dim-list:before {\n",
       "  content: '(';\n",
       "}\n",
       "\n",
       ".xr-dim-list:after {\n",
       "  content: ')';\n",
       "}\n",
       "\n",
       ".xr-dim-list li:not(:last-child):after {\n",
       "  content: ',';\n",
       "  padding-right: 5px;\n",
       "}\n",
       "\n",
       ".xr-has-index {\n",
       "  font-weight: bold;\n",
       "}\n",
       "\n",
       ".xr-var-list,\n",
       ".xr-var-item {\n",
       "  display: contents;\n",
       "}\n",
       "\n",
       ".xr-var-item > div,\n",
       ".xr-var-item label,\n",
       ".xr-var-item > .xr-var-name span {\n",
       "  background-color: var(--xr-background-color-row-even);\n",
       "  margin-bottom: 0;\n",
       "}\n",
       "\n",
       ".xr-var-item > .xr-var-name:hover span {\n",
       "  padding-right: 5px;\n",
       "}\n",
       "\n",
       ".xr-var-list > li:nth-child(odd) > div,\n",
       ".xr-var-list > li:nth-child(odd) > label,\n",
       ".xr-var-list > li:nth-child(odd) > .xr-var-name span {\n",
       "  background-color: var(--xr-background-color-row-odd);\n",
       "}\n",
       "\n",
       ".xr-var-name {\n",
       "  grid-column: 1;\n",
       "}\n",
       "\n",
       ".xr-var-dims {\n",
       "  grid-column: 2;\n",
       "}\n",
       "\n",
       ".xr-var-dtype {\n",
       "  grid-column: 3;\n",
       "  text-align: right;\n",
       "  color: var(--xr-font-color2);\n",
       "}\n",
       "\n",
       ".xr-var-preview {\n",
       "  grid-column: 4;\n",
       "}\n",
       "\n",
       ".xr-var-name,\n",
       ".xr-var-dims,\n",
       ".xr-var-dtype,\n",
       ".xr-preview,\n",
       ".xr-attrs dt {\n",
       "  white-space: nowrap;\n",
       "  overflow: hidden;\n",
       "  text-overflow: ellipsis;\n",
       "  padding-right: 10px;\n",
       "}\n",
       "\n",
       ".xr-var-name:hover,\n",
       ".xr-var-dims:hover,\n",
       ".xr-var-dtype:hover,\n",
       ".xr-attrs dt:hover {\n",
       "  overflow: visible;\n",
       "  width: auto;\n",
       "  z-index: 1;\n",
       "}\n",
       "\n",
       ".xr-var-attrs,\n",
       ".xr-var-data {\n",
       "  display: none;\n",
       "  background-color: var(--xr-background-color) !important;\n",
       "  padding-bottom: 5px !important;\n",
       "}\n",
       "\n",
       ".xr-var-attrs-in:checked ~ .xr-var-attrs,\n",
       ".xr-var-data-in:checked ~ .xr-var-data {\n",
       "  display: block;\n",
       "}\n",
       "\n",
       ".xr-var-data > table {\n",
       "  float: right;\n",
       "}\n",
       "\n",
       ".xr-var-name span,\n",
       ".xr-var-data,\n",
       ".xr-attrs {\n",
       "  padding-left: 25px !important;\n",
       "}\n",
       "\n",
       ".xr-attrs,\n",
       ".xr-var-attrs,\n",
       ".xr-var-data {\n",
       "  grid-column: 1 / -1;\n",
       "}\n",
       "\n",
       "dl.xr-attrs {\n",
       "  padding: 0;\n",
       "  margin: 0;\n",
       "  display: grid;\n",
       "  grid-template-columns: 125px auto;\n",
       "}\n",
       "\n",
       ".xr-attrs dt,\n",
       ".xr-attrs dd {\n",
       "  padding: 0;\n",
       "  margin: 0;\n",
       "  float: left;\n",
       "  padding-right: 10px;\n",
       "  width: auto;\n",
       "}\n",
       "\n",
       ".xr-attrs dt {\n",
       "  font-weight: normal;\n",
       "  grid-column: 1;\n",
       "}\n",
       "\n",
       ".xr-attrs dt:hover span {\n",
       "  display: inline-block;\n",
       "  background: var(--xr-background-color);\n",
       "  padding-right: 10px;\n",
       "}\n",
       "\n",
       ".xr-attrs dd {\n",
       "  grid-column: 2;\n",
       "  white-space: pre-wrap;\n",
       "  word-break: break-all;\n",
       "}\n",
       "\n",
       ".xr-icon-database,\n",
       ".xr-icon-file-text2 {\n",
       "  display: inline-block;\n",
       "  vertical-align: middle;\n",
       "  width: 1em;\n",
       "  height: 1.5em !important;\n",
       "  stroke-width: 0;\n",
       "  stroke: currentColor;\n",
       "  fill: currentColor;\n",
       "}\n",
       "</style><pre class='xr-text-repr-fallback'>&lt;xarray.DataArray (y: 240, x: 262, channel: 3)&gt;\n",
       "dask.array&lt;xarray-&lt;this-array&gt;, shape=(240, 262, 3), dtype=uint8, chunksize=(240, 262, 3), chunktype=numpy.ndarray&gt;\n",
       "Coordinates:\n",
       "  * y        (y) int64 0 1 2 3 4 5 6 7 8 ... 231 232 233 234 235 236 237 238 239\n",
       "  * x        (x) int64 0 1 2 3 4 5 6 7 8 ... 253 254 255 256 257 258 259 260 261\n",
       "  * channel  (channel) int64 0 1 2</pre><div class='xr-wrap' hidden><div class='xr-header'><div class='xr-obj-type'>xarray.DataArray</div><div class='xr-array-name'></div><ul class='xr-dim-list'><li><span class='xr-has-index'>y</span>: 240</li><li><span class='xr-has-index'>x</span>: 262</li><li><span class='xr-has-index'>channel</span>: 3</li></ul></div><ul class='xr-sections'><li class='xr-section-item'><div class='xr-array-wrap'><input id='section-b522d727-8046-4996-bca7-002d891799f2' class='xr-array-in' type='checkbox' checked><label for='section-b522d727-8046-4996-bca7-002d891799f2' title='Show/hide data repr'><svg class='icon xr-icon-database'><use xlink:href='#icon-database'></use></svg></label><div class='xr-array-preview xr-preview'><span>dask.array&lt;chunksize=(240, 262, 3), meta=np.ndarray&gt;</span></div><div class='xr-array-data'><table>\n",
       "<tr>\n",
       "<td>\n",
       "<table>\n",
       "  <thead>\n",
       "    <tr><td> </td><th> Array </th><th> Chunk </th></tr>\n",
       "  </thead>\n",
       "  <tbody>\n",
       "    <tr><th> Bytes </th><td> 188.64 kB </td> <td> 188.64 kB </td></tr>\n",
       "    <tr><th> Shape </th><td> (240, 262, 3) </td> <td> (240, 262, 3) </td></tr>\n",
       "    <tr><th> Count </th><td> 1 Tasks </td><td> 1 Chunks </td></tr>\n",
       "    <tr><th> Type </th><td> uint8 </td><td> numpy.ndarray </td></tr>\n",
       "  </tbody>\n",
       "</table>\n",
       "</td>\n",
       "<td>\n",
       "<svg width=\"150\" height=\"234\" style=\"stroke:rgb(0,0,0);stroke-width:1\" >\n",
       "\n",
       "  <!-- Horizontal lines -->\n",
       "  <line x1=\"10\" y1=\"0\" x2=\"74\" y2=\"64\" style=\"stroke-width:2\" />\n",
       "  <line x1=\"10\" y1=\"120\" x2=\"74\" y2=\"184\" style=\"stroke-width:2\" />\n",
       "\n",
       "  <!-- Vertical lines -->\n",
       "  <line x1=\"10\" y1=\"0\" x2=\"10\" y2=\"120\" style=\"stroke-width:2\" />\n",
       "  <line x1=\"74\" y1=\"64\" x2=\"74\" y2=\"184\" style=\"stroke-width:2\" />\n",
       "\n",
       "  <!-- Colored Rectangle -->\n",
       "  <polygon points=\"10.000000,0.000000 74.660979,64.660979 74.660979,184.660979 10.000000,120.000000\" style=\"fill:#ECB172A0;stroke-width:0\"/>\n",
       "\n",
       "  <!-- Horizontal lines -->\n",
       "  <line x1=\"10\" y1=\"0\" x2=\"36\" y2=\"0\" style=\"stroke-width:2\" />\n",
       "  <line x1=\"74\" y1=\"64\" x2=\"100\" y2=\"64\" style=\"stroke-width:2\" />\n",
       "\n",
       "  <!-- Vertical lines -->\n",
       "  <line x1=\"10\" y1=\"0\" x2=\"74\" y2=\"64\" style=\"stroke-width:2\" />\n",
       "  <line x1=\"36\" y1=\"0\" x2=\"100\" y2=\"64\" style=\"stroke-width:2\" />\n",
       "\n",
       "  <!-- Colored Rectangle -->\n",
       "  <polygon points=\"10.000000,0.000000 36.072787,0.000000 100.733766,64.660979 74.660979,64.660979\" style=\"fill:#ECB172A0;stroke-width:0\"/>\n",
       "\n",
       "  <!-- Horizontal lines -->\n",
       "  <line x1=\"74\" y1=\"64\" x2=\"100\" y2=\"64\" style=\"stroke-width:2\" />\n",
       "  <line x1=\"74\" y1=\"184\" x2=\"100\" y2=\"184\" style=\"stroke-width:2\" />\n",
       "\n",
       "  <!-- Vertical lines -->\n",
       "  <line x1=\"74\" y1=\"64\" x2=\"74\" y2=\"184\" style=\"stroke-width:2\" />\n",
       "  <line x1=\"100\" y1=\"64\" x2=\"100\" y2=\"184\" style=\"stroke-width:2\" />\n",
       "\n",
       "  <!-- Colored Rectangle -->\n",
       "  <polygon points=\"74.660979,64.660979 100.733766,64.660979 100.733766,184.660979 74.660979,184.660979\" style=\"fill:#ECB172A0;stroke-width:0\"/>\n",
       "\n",
       "  <!-- Text -->\n",
       "  <text x=\"87.697372\" y=\"204.660979\" font-size=\"1.0rem\" font-weight=\"100\" text-anchor=\"middle\" >3</text>\n",
       "  <text x=\"120.733766\" y=\"124.660979\" font-size=\"1.0rem\" font-weight=\"100\" text-anchor=\"middle\" transform=\"rotate(-90,120.733766,124.660979)\">262</text>\n",
       "  <text x=\"32.330489\" y=\"172.330489\" font-size=\"1.0rem\" font-weight=\"100\" text-anchor=\"middle\" transform=\"rotate(45,32.330489,172.330489)\">240</text>\n",
       "</svg>\n",
       "</td>\n",
       "</tr>\n",
       "</table></div></div></li><li class='xr-section-item'><input id='section-d1062289-26a8-4fd3-9a3b-03caa09e9d9c' class='xr-section-summary-in' type='checkbox'  checked><label for='section-d1062289-26a8-4fd3-9a3b-03caa09e9d9c' class='xr-section-summary' >Coordinates: <span>(3)</span></label><div class='xr-section-inline-details'></div><div class='xr-section-details'><ul class='xr-var-list'><li class='xr-var-item'><div class='xr-var-name'><span class='xr-has-index'>y</span></div><div class='xr-var-dims'>(y)</div><div class='xr-var-dtype'>int64</div><div class='xr-var-preview xr-preview'>0 1 2 3 4 5 ... 235 236 237 238 239</div><input id='attrs-c89d393e-a217-408a-9e42-866fad4deab6' class='xr-var-attrs-in' type='checkbox' disabled><label for='attrs-c89d393e-a217-408a-9e42-866fad4deab6' title='Show/Hide attributes'><svg class='icon xr-icon-file-text2'><use xlink:href='#icon-file-text2'></use></svg></label><input id='data-c564ae2b-6970-479a-bf76-fd2048274ca9' class='xr-var-data-in' type='checkbox'><label for='data-c564ae2b-6970-479a-bf76-fd2048274ca9' title='Show/Hide data repr'><svg class='icon xr-icon-database'><use xlink:href='#icon-database'></use></svg></label><div class='xr-var-attrs'><dl class='xr-attrs'></dl></div><div class='xr-var-data'><pre>array([  0,   1,   2, ..., 237, 238, 239])</pre></div></li><li class='xr-var-item'><div class='xr-var-name'><span class='xr-has-index'>x</span></div><div class='xr-var-dims'>(x)</div><div class='xr-var-dtype'>int64</div><div class='xr-var-preview xr-preview'>0 1 2 3 4 5 ... 257 258 259 260 261</div><input id='attrs-82d85c2e-c86d-4001-b90c-8f69bfa0d7ad' class='xr-var-attrs-in' type='checkbox' disabled><label for='attrs-82d85c2e-c86d-4001-b90c-8f69bfa0d7ad' title='Show/Hide attributes'><svg class='icon xr-icon-file-text2'><use xlink:href='#icon-file-text2'></use></svg></label><input id='data-7d1b23cb-78c2-46a0-9f17-61da944f0f8a' class='xr-var-data-in' type='checkbox'><label for='data-7d1b23cb-78c2-46a0-9f17-61da944f0f8a' title='Show/Hide data repr'><svg class='icon xr-icon-database'><use xlink:href='#icon-database'></use></svg></label><div class='xr-var-attrs'><dl class='xr-attrs'></dl></div><div class='xr-var-data'><pre>array([  0,   1,   2, ..., 259, 260, 261])</pre></div></li><li class='xr-var-item'><div class='xr-var-name'><span class='xr-has-index'>channel</span></div><div class='xr-var-dims'>(channel)</div><div class='xr-var-dtype'>int64</div><div class='xr-var-preview xr-preview'>0 1 2</div><input id='attrs-bb30e11f-c233-4b86-9f88-2534d7f043ee' class='xr-var-attrs-in' type='checkbox' disabled><label for='attrs-bb30e11f-c233-4b86-9f88-2534d7f043ee' title='Show/Hide attributes'><svg class='icon xr-icon-file-text2'><use xlink:href='#icon-file-text2'></use></svg></label><input id='data-219960fa-52c7-41d8-84b5-717d081b691c' class='xr-var-data-in' type='checkbox'><label for='data-219960fa-52c7-41d8-84b5-717d081b691c' title='Show/Hide data repr'><svg class='icon xr-icon-database'><use xlink:href='#icon-database'></use></svg></label><div class='xr-var-attrs'><dl class='xr-attrs'></dl></div><div class='xr-var-data'><pre>array([0, 1, 2])</pre></div></li></ul></div></li><li class='xr-section-item'><input id='section-325dfe7b-2677-43b5-8a18-eddae4b6859c' class='xr-section-summary-in' type='checkbox' disabled ><label for='section-325dfe7b-2677-43b5-8a18-eddae4b6859c' class='xr-section-summary'  title='Expand/collapse section'>Attributes: <span>(0)</span></label><div class='xr-section-inline-details'></div><div class='xr-section-details'><dl class='xr-attrs'></dl></div></li></ul></div></div>"
      ],
      "text/plain": [
       "<xarray.DataArray (y: 240, x: 262, channel: 3)>\n",
       "dask.array<xarray-<this-array>, shape=(240, 262, 3), dtype=uint8, chunksize=(240, 262, 3), chunktype=numpy.ndarray>\n",
       "Coordinates:\n",
       "  * y        (y) int64 0 1 2 3 4 5 6 7 8 ... 231 232 233 234 235 236 237 238 239\n",
       "  * x        (x) int64 0 1 2 3 4 5 6 7 8 ... 253 254 255 256 257 258 259 260 261\n",
       "  * channel  (channel) int64 0 1 2"
      ]
     },
     "execution_count": 11,
     "metadata": {},
     "output_type": "execute_result"
    }
   ],
   "source": [
    "test_image = data_config.test_image().to_dask() # The xarray.DataArray is one format accepted by the ImageNet model\n",
    "test_image"
   ]
  },
  {
   "cell_type": "markdown",
   "metadata": {},
   "source": [
    "Let's take a look at the image with `matplotlib`:"
   ]
  },
  {
   "cell_type": "code",
   "execution_count": 12,
   "metadata": {},
   "outputs": [],
   "source": [
    "import matplotlib.pyplot as plt"
   ]
  },
  {
   "cell_type": "code",
   "execution_count": 13,
   "metadata": {},
   "outputs": [
    {
     "data": {
      "text/plain": [
       "<matplotlib.image.AxesImage at 0x7fd172c68b90>"
      ]
     },
     "execution_count": 13,
     "metadata": {},
     "output_type": "execute_result"
    },
    {
     "data": {
      "image/png": "[encoded data removed]",
      "text/plain": [
       "<Figure size 432x288 with 1 Axes>"
      ]
     },
     "metadata": {
      "needs_background": "light"
     },
     "output_type": "display_data"
    }
   ],
   "source": [
    "plt.imshow(test_image)"
   ]
  },
  {
   "cell_type": "markdown",
   "metadata": {},
   "source": [
    "## Model predictions\n",
    "\n",
    "Now let's use the loaded model on the test image data we found in the via catalog."
   ]
  },
  {
   "cell_type": "code",
   "execution_count": 14,
   "metadata": {},
   "outputs": [
    {
     "data": {
      "text/plain": [
       "'koala : 99.80%'"
      ]
     },
     "execution_count": 14,
     "metadata": {},
     "output_type": "execute_result"
    }
   ],
   "source": [
    "model.predict(test_image)"
   ]
  },
  {
   "cell_type": "markdown",
   "metadata": {},
   "source": [
    "As you can see, this model has given a prediction of the test image, with a confidence score. Check out the code in the model repo to see how this was determined!"
   ]
  }
 ],
 "metadata": {
  "kernelspec": {
   "display_name": "Python 3",
   "language": "python",
   "name": "python3"
  },
  "language_info": {
   "codemirror_mode": {
    "name": "ipython",
    "version": 3
   },
   "file_extension": ".py",
   "mimetype": "text/x-python",
   "name": "python",
   "nbconvert_exporter": "python",
   "pygments_lexer": "ipython3",
   "version": "3.7.4"
  }
 },
 "nbformat": 4,
 "nbformat_minor": 4
}
