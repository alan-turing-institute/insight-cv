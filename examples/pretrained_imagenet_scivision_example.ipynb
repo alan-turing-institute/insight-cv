{
 "cells": [
  {
   "cell_type": "markdown",
   "metadata": {},
   "source": [
    "# Use a pretrained ImageNet model via `scivision`\n",
    "\n",
    "(Work in Progress)\n",
    "\n",
    "In this notebook, we will:\n",
    "\n",
    "1. load a model from the following test repo:\n",
    "https://github.com/quantumjot/scivision-test-plugin\n",
    "2. find matching datasets\n",
    "3. perform a simple model inference"
   ]
  },
  {
   "cell_type": "markdown",
   "metadata": {},
   "source": [
    "We first import some things from scivision: `default_catalog` is a scivision **catalog** that will let us discover models and datasets, and `load_pretrained_model` provides a convenient way to load and run a model."
   ]
  },
  {
   "cell_type": "code",
   "execution_count": null,
   "metadata": {},
   "outputs": [],
   "source": [
    "from scivision import default_catalog, load_pretrained_model"
   ]
  },
  {
   "cell_type": "markdown",
   "metadata": {},
   "source": [
    "## Query the scivision catalog"
   ]
  },
  {
   "cell_type": "markdown",
   "metadata": {},
   "source": [
    "A scivision catalog is a collection of **models** and **datasources**.\n",
    "\n",
    "For this example, we have a particular model in mind (https://github.com/quantumjot/scivision-test-plugin), and wish to find datasets compatible with it.  Let's first list all of the models in the *default catalog* (the built-in catalog, distributed as part of scivision).  Our model is included, named 'scivision-test-plugin'."
   ]
  },
  {
   "cell_type": "code",
   "execution_count": null,
   "metadata": {},
   "outputs": [],
   "source": [
    "default_catalog.models"
   ]
  },
  {
   "cell_type": "markdown",
   "metadata": {},
   "source": [
    "Next, we identify datasources in the catalog that would be compatible with the model (based on `tasks`, `format` and `labels_provided`/`labels_required`).  Let's use `data-003`, an image of a baby Koala."
   ]
  },
  {
   "cell_type": "code",
   "execution_count": null,
   "metadata": {
    "scrolled": false
   },
   "outputs": [],
   "source": [
    "compatible_datasources = default_catalog.compatible_datasources('scivision-test-plugin').to_dataframe()\n",
    "compatible_datasources"
   ]
  },
  {
   "cell_type": "markdown",
   "metadata": {},
   "source": [
    "(To be replaced by a query-based interface on the catalog)"
   ]
  },
  {
   "cell_type": "code",
   "execution_count": null,
   "metadata": {
    "pycharm": {
     "name": "#%%\n"
    }
   },
   "outputs": [],
   "source": [
    "target_datasource = compatible_datasources.loc[compatible_datasources['name'] == 'data-003']\n",
    "target_datasource"
   ]
  },
  {
   "cell_type": "markdown",
   "metadata": {},
   "source": [
    "## Load a model"
   ]
  },
  {
   "cell_type": "markdown",
   "metadata": {},
   "source": [
    "Each model contains a `scivision` config file, for example, see: https://github.com/quantumjot/scivision-test-plugin/blob/main/.scivision-config_imagenet.yaml\n",
    "\n",
    "There are different ways to specify the path to the config file:\n",
    "\n",
    "```python\n",
    "config_path = target['model'] + \"/\" + '.scivision-config_imagenet.yaml'\n",
    "```\n",
    "\n",
    "`scivision` will construct the correct github path.\n",
    "\n",
    "Or:\n",
    "\n",
    "```python\n",
    "config_path = \"https://github.com/quantumjot/scivision-test-plugin/blob/main/.scivision-config_imagenet.yaml\"\n",
    "```\n",
    "\n",
    "Or:\n",
    "\n",
    "```python\n",
    "config_path = \"https://raw.githubusercontent.com/quantumjot/scivision-test-plugin/main/.scivision-config_imagenet.yaml\"\n",
    "```"
   ]
  },
  {
   "cell_type": "code",
   "execution_count": null,
   "metadata": {},
   "outputs": [],
   "source": [
    "config_path = \"https://github.com/quantumjot/scivision-test-plugin/blob/main/.scivision-config_imagenet.yaml\""
   ]
  },
  {
   "cell_type": "code",
   "execution_count": null,
   "metadata": {},
   "outputs": [],
   "source": [
    "model = load_pretrained_model(config_path, allow_install=True)"
   ]
  },
  {
   "cell_type": "code",
   "execution_count": null,
   "metadata": {
    "pycharm": {
     "name": "#%%\n"
    }
   },
   "outputs": [],
   "source": [
    "# let's explore the model object\n",
    "model"
   ]
  },
  {
   "cell_type": "markdown",
   "metadata": {},
   "source": [
    "## Load input image"
   ]
  },
  {
   "cell_type": "code",
   "execution_count": null,
   "metadata": {},
   "outputs": [],
   "source": [
    "# libraries\n",
    "from skimage.io import imread\n",
    "from skimage.transform import resize\n",
    "from tensorflow.keras.applications.imagenet_utils import decode_predictions\n",
    "\n",
    "import matplotlib.pyplot as plt"
   ]
  },
  {
   "cell_type": "code",
   "execution_count": null,
   "metadata": {},
   "outputs": [],
   "source": [
    "inputs = target_datasource['url'].item()\n",
    "inputs"
   ]
  },
  {
   "cell_type": "code",
   "execution_count": null,
   "metadata": {
    "pycharm": {
     "name": "#%%\n"
    }
   },
   "outputs": [],
   "source": [
    "x = imread(inputs)\n",
    "plt.imshow(x)"
   ]
  },
  {
   "cell_type": "code",
   "execution_count": null,
   "metadata": {},
   "outputs": [],
   "source": [
    "# preprocess: resize to (224, 224) and cast back to 0-255 range\n",
    "X = resize(x, (224, 224), \n",
    "           preserve_range=True, \n",
    "           anti_aliasing=True)"
   ]
  },
  {
   "cell_type": "markdown",
   "metadata": {},
   "source": [
    "## Model predictions"
   ]
  },
  {
   "cell_type": "code",
   "execution_count": null,
   "metadata": {},
   "outputs": [],
   "source": [
    "y = model.predict(X)"
   ]
  },
  {
   "cell_type": "code",
   "execution_count": null,
   "metadata": {},
   "outputs": [],
   "source": [
    "def get_imagenet_label(probs):\n",
    "    return decode_predictions(probs, top=1)[0][0]"
   ]
  },
  {
   "cell_type": "code",
   "execution_count": null,
   "metadata": {
    "pycharm": {
     "name": "#%%\n"
    }
   },
   "outputs": [],
   "source": [
    "plt.figure()\n",
    "plt.imshow(x)\n",
    "_, image_class, class_confidence = get_imagenet_label(y)\n",
    "plt.title(\"{} : {:.2f}%\".format(image_class, class_confidence * 100))\n",
    "plt.show()"
   ]
  }
 ],
 "metadata": {
  "kernelspec": {
   "display_name": "Python 3 (ipykernel)",
   "language": "python",
   "name": "python3"
  },
  "language_info": {
   "codemirror_mode": {
    "name": "ipython",
    "version": 3
   },
   "file_extension": ".py",
   "mimetype": "text/x-python",
   "name": "python",
   "nbconvert_exporter": "python",
   "pygments_lexer": "ipython3",
   "version": "3.8.2"
  }
 },
 "nbformat": 4,
 "nbformat_minor": 4
}
